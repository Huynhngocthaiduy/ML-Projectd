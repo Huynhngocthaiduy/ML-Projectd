{
 "cells": [
  {
   "cell_type": "code",
   "execution_count": 1,
   "id": "5c987f2d",
   "metadata": {},
   "outputs": [],
   "source": [
    "import matplotlib.pyplot as plt\n",
    "import numpy as np\n",
    "import pandas as pd\n",
    "from sklearn.svm import SVR\n",
    "from sklearn.preprocessing import OneHotEncoder\n",
    "from sklearn.metrics import mean_squared_error, r2_score\n",
    "from sklearn.svm import LinearSVR\n",
    "from sklearn.pipeline import make_pipeline\n",
    "from sklearn.preprocessing import StandardScaler\n",
    "from sklearn.datasets import make_regression\n",
    "from sklearn.model_selection import train_test_split"
   ]
  },
  {
   "cell_type": "code",
   "execution_count": 3,
   "id": "1789fdfa",
   "metadata": {},
   "outputs": [
    {
     "data": {
      "text/plain": [
       "(2768, 18)"
      ]
     },
     "execution_count": 3,
     "metadata": {},
     "output_type": "execute_result"
    }
   ],
   "source": [
    "df_cleaned = pd.read_csv('df_withmissing.csv')\n",
    "df_cleaned['Year'] = df_cleaned['Year'].astype('object')\n",
    "df_cleaned.dropna(inplace=True)\n",
    "df_cleaned.shape"
   ]
  },
  {
   "cell_type": "code",
   "execution_count": 4,
   "id": "4877ebc7",
   "metadata": {},
   "outputs": [
    {
     "name": "stderr",
     "output_type": "stream",
     "text": [
      "/usr/local/insa/anaconda/lib/python3.11/site-packages/sklearn/preprocessing/_encoders.py:868: FutureWarning: `sparse` was renamed to `sparse_output` in version 1.2 and will be removed in 1.4. `sparse_output` is ignored unless you leave `sparse` to its default value.\n",
      "  warnings.warn(\n"
     ]
    }
   ],
   "source": [
    "categorical_vars = [\"Entity\", \"Year\"]\n",
    "one_hot_encoder = OneHotEncoder(sparse=False, drop = \"first\")\n",
    "# apply the one hot encoder logic \n",
    "encoder_vars_array = one_hot_encoder.fit_transform(df_cleaned[categorical_vars])\n",
    "\n",
    "# create object for the feature names using the categorical variables\n",
    "encoder_feature_names = one_hot_encoder.get_feature_names_out(categorical_vars)\n",
    "\n",
    "# create a dataframe to hold the one hot encoded variables\n",
    "encoder_vars_df = pd.DataFrame(encoder_vars_array, columns = encoder_feature_names)\n",
    "\n",
    "# concatenate the new dataframe back to the original input variables dataframe\n",
    "df_cleaned_new = pd.concat([df_cleaned.reset_index(drop=True), encoder_vars_df.reset_index(drop=True)], axis = 1)\n",
    "\n",
    "# drop the original input 2 and input 3 as it is not needed anymore\n",
    "df_cleaned_new.drop(categorical_vars, axis = 1, inplace = True)"
   ]
  },
  {
   "cell_type": "code",
   "execution_count": 12,
   "id": "d18bd722",
   "metadata": {},
   "outputs": [
    {
     "data": {
      "text/plain": [
       "(2768, 18)"
      ]
     },
     "execution_count": 12,
     "metadata": {},
     "output_type": "execute_result"
    }
   ],
   "source": [
    "'''\n",
    "sampled_data = df_cleaned_new.sample(frac=0.7, random_state=42)\n",
    "target = sampled_data['Value_co2_emissions_kt_by_country']\n",
    "sampled_data.drop(columns=['Value_co2_emissions_kt_by_country'], inplace=True)\n",
    "x_train, x_test, y_train, y_test = train_test_split(sampled_data, target, test_size=0.2, random_state=2024, shuffle=True)\n",
    "y_train.shape\n",
    "'''\n",
    "df_cleaned = pd.read_csv('df_withmissing.csv')\n",
    "df_cleaned['Year'] = df_cleaned['Year'].astype('object')\n",
    "df_cleaned.dropna(inplace=True)\n",
    "df_cleaned.shape"
   ]
  },
  {
   "cell_type": "code",
   "execution_count": 14,
   "id": "e5df1c78",
   "metadata": {},
   "outputs": [
    {
     "name": "stdout",
     "output_type": "stream",
     "text": [
      "Training and evaluating model with 'linear' kernel.\n",
      "Kernel: linear, Mean Squared Error: 499111661474.00726\n",
      "\n",
      "Training and evaluating model with 'poly' kernel.\n",
      "Kernel: poly, Mean Squared Error: 496642925868.18506\n",
      "\n",
      "Training and evaluating model with 'rbf' kernel.\n",
      "Kernel: rbf, Mean Squared Error: 496650876034.55365\n",
      "\n",
      "Training and evaluating model with 'sigmoid' kernel.\n",
      "Kernel: sigmoid, Mean Squared Error: 496645502032.62756\n",
      "\n"
     ]
    }
   ],
   "source": [
    "kernels = ['linear', 'poly', 'rbf', 'sigmoid']\n",
    "# Dictionary to store MSE for each kernel\n",
    "mse_scores = {}\n",
    "# Loop through the list of kernels, creating, fitting, and evaluating a model for each\n",
    "for kernel in kernels:\n",
    "    print(f\"Training and evaluating model with '{kernel}' kernel.\")\n",
    "    if kernel == 'linear':\n",
    "        # Handle the linear case with LinearSVR\n",
    "        regr = make_pipeline(StandardScaler(), LinearSVR(dual=True, random_state=0, tol=1e-5))\n",
    "    else:\n",
    "        # Use SVR for non-linear kernels\n",
    "        regr = make_pipeline(StandardScaler(), SVR(kernel=kernel, C=1.0, epsilon=0.1))\n",
    "    \n",
    "    # Train the model\n",
    "    regr.fit(x_train, y_train)\n",
    "    \n",
    "    # Evaluate the model (Compute MSE)\n",
    "    y_pred = regr.predict(x_test)\n",
    "    mse = mean_squared_error(y_test, y_pred)\n",
    "    mse_scores[kernel] = mse\n",
    "\n",
    "    print(f\"Kernel: {kernel}, Mean Squared Error: {mse}\\n\")"
   ]
  },
  {
   "cell_type": "code",
   "execution_count": 16,
   "id": "3495be74",
   "metadata": {},
   "outputs": [
    {
     "data": {
      "image/png": "[encoded data removed]",
      "text/plain": [
       "<Figure size 1000x600 with 1 Axes>"
      ]
     },
     "metadata": {},
     "output_type": "display_data"
    }
   ],
   "source": [
    "plt.figure(figsize=(10, 6))\n",
    "plt.bar(mse_scores.keys(), mse_scores.values(), color=['skyblue', 'lightgreen', 'salmon', 'violet'])\n",
    "plt.xlabel('Kernel Type')\n",
    "plt.ylabel('Mean Squared Error (MSE)')\n",
    "plt.title('Performance Comparison of SVR Kernels')\n",
    "plt.xticks(list(mse_scores.keys()))\n",
    "plt.show()\n"
   ]
  },
  {
   "cell_type": "code",
   "execution_count": null,
   "id": "358eeb11",
   "metadata": {},
   "outputs": [],
   "source": []
  }
 ],
 "metadata": {
  "kernelspec": {
   "display_name": "Python 3 (ipykernel)",
   "language": "python",
   "name": "python3"
  },
  "language_info": {
   "codemirror_mode": {
    "name": "ipython",
    "version": 3
   },
   "file_extension": ".py",
   "mimetype": "text/x-python",
   "name": "python",
   "nbconvert_exporter": "python",
   "pygments_lexer": "ipython3",
   "version": "3.11.3"
  }
 },
 "nbformat": 4,
 "nbformat_minor": 5
}
